{
 "cells": [
  {
   "cell_type": "code",
   "execution_count": 1,
   "id": "1347312d-fc4e-4767-85a8-34d4f5fd222a",
   "metadata": {},
   "outputs": [],
   "source": [
    "import json"
   ]
  },
  {
   "cell_type": "code",
   "execution_count": 2,
   "id": "653bd499-0cda-49c3-bff4-9258b9c201bf",
   "metadata": {},
   "outputs": [],
   "source": [
    "def load_data(filename):\n",
    "    with open(filename,\"r\") as f:\n",
    "        return json.load(f)"
   ]
  },
  {
   "cell_type": "code",
   "execution_count": 6,
   "id": "82e21c8c-0677-4d8f-a820-608218bf3cc3",
   "metadata": {},
   "outputs": [
    {
     "name": "stdout",
     "output_type": "stream",
     "text": [
      "[9, 1, 2, 13, 16, 6, 5, 12, 11, 20]\n"
     ]
    }
   ],
   "source": [
    "def find_people_you_may_know(user_id,data):\n",
    "    user_friends={}\n",
    "    for user in data[\"users\"]:\n",
    "        user_friends[user['id']]=set(user['friends'])\n",
    "    # print(user_friends)\n",
    "    if user_id  not in user_friends:\n",
    "        return []\n",
    "        \n",
    "    direct_friends=user_friends[user_id]\n",
    "    # print(direct_friends)\n",
    "    suggestions={}\n",
    "    \n",
    "    for friend in direct_friends:\n",
    "        for mutual in user_friends[friend]:\n",
    "            if mutual != user_id and mutual not in  direct_friends:\n",
    "\n",
    "                 suggestions[mutual]=suggestions.get(mutual,0)+1\n",
    "    sorted_suggestions= sorted(suggestions.items(),key =lambda x:x[1],reverse=True)\n",
    "    return[user_id for user_id,mutual_count in sorted_suggestions]\n",
    "\n",
    "data3 = load_data(\"data3.json\")\n",
    "user_id = 8\n",
    "get = find_people_you_may_know(user_id,data3)\n",
    "print(get)"
   ]
  },
  {
   "cell_type": "code",
   "execution_count": null,
   "id": "476576f3-a162-4e7e-92c9-364701a62312",
   "metadata": {},
   "outputs": [],
   "source": []
  },
  {
   "cell_type": "code",
   "execution_count": null,
   "id": "f6b31f7b-a1dd-454f-a7d7-c905e1c6ee08",
   "metadata": {},
   "outputs": [],
   "source": []
  }
 ],
 "metadata": {
  "kernelspec": {
   "display_name": "Python 3 (ipykernel)",
   "language": "python",
   "name": "python3"
  },
  "language_info": {
   "codemirror_mode": {
    "name": "ipython",
    "version": 3
   },
   "file_extension": ".py",
   "mimetype": "text/x-python",
   "name": "python",
   "nbconvert_exporter": "python",
   "pygments_lexer": "ipython3",
   "version": "3.13.5"
  }
 },
 "nbformat": 4,
 "nbformat_minor": 5
}
