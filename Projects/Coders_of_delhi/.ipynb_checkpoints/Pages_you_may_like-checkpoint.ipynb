{
 "cells": [
  {
   "cell_type": "code",
   "execution_count": 1,
   "id": "332db146-00f2-48e4-925c-5c70531c83b6",
   "metadata": {},
   "outputs": [],
   "source": [
    "import json"
   ]
  },
  {
   "cell_type": "code",
   "execution_count": 10,
   "id": "a71ba00d-9a3c-42a3-b222-202574eb2591",
   "metadata": {},
   "outputs": [],
   "source": [
    "def load_data(filename):\n",
    "    with open(filename,\"r\") as f:\n",
    "        \n",
    "        return json.load(f)"
   ]
  },
  {
   "cell_type": "code",
   "execution_count": 7,
   "id": "e863bae1-6c18-4886-b487-b09c0e4b183b",
   "metadata": {},
   "outputs": [
    {
     "name": "stdout",
     "output_type": "stream",
     "text": [
      "[101, 103, 102, 104, 105, 106, 107, 108, 109, 110, 111, 112, 113, 114, 115, 116, 117, 118, 119, 120, 121, 122, 123, 124, 125, 126, 127]\n"
     ]
    }
   ],
   "source": [
    "def pages_you_may_like(user_id,data):\n",
    "    user_pages={}\n",
    "    \n",
    "    for user in data[\"users\"]:\n",
    "        user_pages[user['id']]=set(user['liked_pages'])\n",
    "    if user_id not in user_pages:\n",
    "        return []\n",
    "    user_liked_pages = user_pages[user_id]\n",
    "    page_suggestions={}\n",
    "    for other_user,pages in user_pages.items():\n",
    "        if other_user != user_id:\n",
    "            shared_pages=user_liked_pages.intersection(pages)\n",
    "\n",
    "        for page in pages:\n",
    "            if pages not in user_liked_pages:\n",
    "                page_suggestions[page] = page_suggestions.get('get',0)+len(shared_pages)\n",
    "    sorted_pages = sorted(page_suggestions.items(),key=lambda x:x[1],reverse=True)\n",
    "    return [user_id for user_id,_ in sorted_pages]\n",
    "\n",
    "data = load_data(\"data3.json\")\n",
    "user_id=3\n",
    "recc=pages_you_may_like(user_id,data)\n",
    "print(recc)\n",
    "    \n",
    "    "
   ]
  },
  {
   "cell_type": "code",
   "execution_count": null,
   "id": "8fa4d2bb-694d-4458-8118-f4319843f479",
   "metadata": {},
   "outputs": [],
   "source": []
  }
 ],
 "metadata": {
  "kernelspec": {
   "display_name": "Python 3 (ipykernel)",
   "language": "python",
   "name": "python3"
  },
  "language_info": {
   "codemirror_mode": {
    "name": "ipython",
    "version": 3
   },
   "file_extension": ".py",
   "mimetype": "text/x-python",
   "name": "python",
   "nbconvert_exporter": "python",
   "pygments_lexer": "ipython3",
   "version": "3.13.5"
  }
 },
 "nbformat": 4,
 "nbformat_minor": 5
}
