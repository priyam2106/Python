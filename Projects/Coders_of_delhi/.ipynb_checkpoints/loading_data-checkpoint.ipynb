{
 "cells": [
  {
   "cell_type": "code",
   "execution_count": 1,
   "id": "885dcd7c-c2e9-4ca3-91ef-d4398d08d3b8",
   "metadata": {},
   "outputs": [],
   "source": [
    "import json"
   ]
  },
  {
   "cell_type": "code",
   "execution_count": 2,
   "id": "519ef557-9bdc-4944-b2bc-17d5dd63e6d1",
   "metadata": {},
   "outputs": [],
   "source": [
    "data={\"users\": [\n",
    "        {\"id\": 1, \"name\": \"Amit\", \"friends\": [2, 3], \"liked_pages\": [101]},\n",
    "        {\"id\": 2, \"name\": \"Priya\", \"friends\": [1, 4], \"liked_pages\": [102]},\n",
    "        {\"id\": 3, \"name\": \"Rahul\", \"friends\": [1], \"liked_pages\": [101, 103]},\n",
    "        {\"id\": 4, \"name\": \"Sara\", \"friends\": [2], \"liked_pages\": [104]}\n",
    "    ],\n",
    "    \"pages\": [\n",
    "        {\"id\": 101, \"name\": \"Python Developers\"},\n",
    "        {\"id\": 102, \"name\": \"Data Science Enthusiasts\"},\n",
    "        {\"id\": 103, \"name\": \"AI & ML Community\"},\n",
    "        {\"id\": 104, \"name\": \"Web Dev Hub\"}\n",
    "    ]\n",
    "}"
   ]
  },
  {
   "cell_type": "code",
   "execution_count": 3,
   "id": "1b12f250-5e90-45ef-a80b-f7df079647dd",
   "metadata": {},
   "outputs": [],
   "source": [
    "file=open(\"data.json\",\"w\")"
   ]
  },
  {
   "cell_type": "code",
   "execution_count": 4,
   "id": "72ff952a-a02e-4c0d-9b72-1623a9c08241",
   "metadata": {},
   "outputs": [],
   "source": [
    "json.dump(data,file)"
   ]
  },
  {
   "cell_type": "code",
   "execution_count": 5,
   "id": "be1815d3-4f30-4e9f-b232-2747bfd8080f",
   "metadata": {},
   "outputs": [],
   "source": [
    "file.close()"
   ]
  },
  {
   "cell_type": "code",
   "execution_count": null,
   "id": "2eb8f3ff-b48e-42a8-b828-1bda879f39f3",
   "metadata": {},
   "outputs": [],
   "source": [
    "def "
   ]
  }
 ],
 "metadata": {
  "kernelspec": {
   "display_name": "Python 3 (ipykernel)",
   "language": "python",
   "name": "python3"
  },
  "language_info": {
   "codemirror_mode": {
    "name": "ipython",
    "version": 3
   },
   "file_extension": ".py",
   "mimetype": "text/x-python",
   "name": "python",
   "nbconvert_exporter": "python",
   "pygments_lexer": "ipython3",
   "version": "3.13.5"
  }
 },
 "nbformat": 4,
 "nbformat_minor": 5
}
