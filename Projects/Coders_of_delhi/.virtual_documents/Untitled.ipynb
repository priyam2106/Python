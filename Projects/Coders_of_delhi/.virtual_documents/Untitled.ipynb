import json


def load_data(filename):
    with open(filename,"r") as f:
        
        return json.load(f)


def pages_you_may_like(user_id,data):
    user_pages={}
    for user in data["user"]:
        user_pages[user['id']]=set(user['liked_pages'])
    if user_id not in user_pages:
        return[]

    user_liked_pages=user_pages[user_id]
    print(user_liked_pages)
    # liked_suggestions={}
    # for pages in user_liked_



