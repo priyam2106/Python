import json


def load_data(filename):
    with open(filename,"r") as f:
        
        return json.load(f)


def pages_you_may_like(user_id,data):
    user_pages={}
    print(user_pages)
    for user in data["user"]:
        user_pages[user['id']]=set(user['liked_pages'])
    if user_id not in user_pages:
        return []
    user_liked_pages = user_pages[user_id]
    page_suggestions={}
    for other_user,pages in user_pages.items():
        if other_user != user_id:
            shared_pages=user_liked_pages.intersection(pages)

        for page in pages:
            if pages not in user_liked_pages:
                page_suggestions[page] = page_suggestions.get('get',0)+len(shared_pages)
    sorted_pages = sorted(page_suggestions.items(),key=lambda x:x[1],reverse=True)
    return [user_id for user_id,_ in sorted_pages]

data = load_data("data3.json")
user_id=3
recc=pages_you_may_like(user_id,data)
print(recc)
    
    



