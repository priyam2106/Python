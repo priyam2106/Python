import json


def load_data(filename):
    with open(filename,"r") as f:
        return json.load(f)


def find_people_you_may_know(user_id,data):
    user_friends={}
    for user in data["users"]:
        user_friends[user['id']]=set(user['friends'])
    # print(user_friends)
    if user_id is not user_friends:
        return []
        
    direct_friends=user_friends[user_id]
   
    suggestions={}
    
    for friend in direct_friends:
        for mutual in user_friends[friend]:
            if mutual != user_id and mutual not in  direct_friends:

                 suggestions[mutual]=suggestions.get(mutual,0)+1
                 print(direct_friends)
    sorted_suggestions= sorted(suggestions.items(),key =lambda x:x[1],reverse=True)
    return[user_id for user_id,mutual_count in sorted_suggestions]

data3 = load_data("data3.json")
user_id = 8
get = find_people_you_may_know(user_id,data3)
print(get)






