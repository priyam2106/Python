{
 "cells": [
  {
   "cell_type": "code",
   "execution_count": 1,
   "id": "e20087e8-398c-46de-b036-8f74d702d8c0",
   "metadata": {},
   "outputs": [],
   "source": [
    "import json"
   ]
  },
  {
   "cell_type": "code",
   "execution_count": 2,
   "id": "dfc3efd1-ff36-4b5b-80f3-fb4c9c323b04",
   "metadata": {},
   "outputs": [],
   "source": [
    "def clean_data(data2):\n",
    "    data2[\"users\"] = [user for user in data2['users'] if user['name'].strip()]\n",
    "    for user in data2['users']:\n",
    "        user[\"friends\"]=list(set(user['friends']))\n",
    "    data2[\"users\"] = [user for user in data2['users'] if user['friends'] or user['liked_pages']]\n",
    "\n",
    "    unique_pages=set()\n",
    "    for page in data2['pages']:\n",
    "        # unique_pages[page['id']] = page\n",
    "        unique_pages.add(page['id'])\n",
    "    data2['pages']= list(unique_pages)\n",
    "\n",
    "    return data2"
   ]
  },
  {
   "cell_type": "code",
   "execution_count": 3,
   "id": "bb9dc56f-e782-4692-a2b4-0916821d2b02",
   "metadata": {},
   "outputs": [],
   "source": [
    "data2 =json.load(open(\"data2.json\",\"r\"))"
   ]
  },
  {
   "cell_type": "code",
   "execution_count": 4,
   "id": "a23d3dd3-29c9-4c8b-ae5e-3cd371893340",
   "metadata": {},
   "outputs": [
    {
     "data": {
      "text/plain": [
       "{'users': [{'id': 1, 'name': 'Amit', 'friends': [2, 3], 'liked_pages': [101]},\n",
       "  {'id': 2, 'name': 'Priya', 'friends': [1, 4], 'liked_pages': [102]},\n",
       "  {'id': 3, 'name': '', 'friends': [1], 'liked_pages': [101, 103]},\n",
       "  {'id': 4, 'name': 'Sara', 'friends': [2, 2], 'liked_pages': [104]},\n",
       "  {'id': 5, 'name': 'Amit', 'friends': [], 'liked_pages': []}],\n",
       " 'pages': [{'id': 101, 'name': 'Python Developers'},\n",
       "  {'id': 102, 'name': 'Data Science Enthusiasts'},\n",
       "  {'id': 103, 'name': 'AI & ML Community'},\n",
       "  {'id': 104, 'name': 'Web Dev Hub'},\n",
       "  {'id': 104, 'name': 'Web Development'}]}"
      ]
     },
     "execution_count": 4,
     "metadata": {},
     "output_type": "execute_result"
    }
   ],
   "source": [
    "data2"
   ]
  },
  {
   "cell_type": "code",
   "execution_count": 5,
   "id": "ea50cd4c-2b22-4914-b0e8-afaf65654011",
   "metadata": {},
   "outputs": [
    {
     "name": "stdout",
     "output_type": "stream",
     "text": [
      "data cleaned sucessfully\n"
     ]
    }
   ],
   "source": [
    "data2 = clean_data(data2)\n",
    "json.dump(data2,open(\"cleaned_data2.json\",\"w\"))\n",
    "print(\"data cleaned sucessfully\")\n",
    "          "
   ]
  },
  {
   "cell_type": "code",
   "execution_count": null,
   "id": "27d048ab-db85-4406-99e0-f75c0cbd6395",
   "metadata": {},
   "outputs": [],
   "source": []
  },
  {
   "cell_type": "code",
   "execution_count": null,
   "id": "f93645f8-1ff5-4154-9179-970d51cbd8ba",
   "metadata": {},
   "outputs": [],
   "source": []
  }
 ],
 "metadata": {
  "kernelspec": {
   "display_name": "Python 3 (ipykernel)",
   "language": "python",
   "name": "python3"
  },
  "language_info": {
   "codemirror_mode": {
    "name": "ipython",
    "version": 3
   },
   "file_extension": ".py",
   "mimetype": "text/x-python",
   "name": "python",
   "nbconvert_exporter": "python",
   "pygments_lexer": "ipython3",
   "version": "3.13.5"
  }
 },
 "nbformat": 4,
 "nbformat_minor": 5
}
